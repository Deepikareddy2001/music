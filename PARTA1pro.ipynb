{
 "cells": [
  {
   "cell_type": "code",
   "execution_count": 1,
   "id": "2725889a",
   "metadata": {},
   "outputs": [
    {
     "data": {
      "text/plain": [
       "121.24000000000001"
      ]
     },
     "execution_count": 1,
     "metadata": {},
     "output_type": "execute_result"
    }
   ],
   "source": [
    "import numpy as np\n",
    "arr = [115.3, 195.5, 120.5, 110.2, 90.4, 105.6, 110.9, 116.3, 122.3, 125.4]\n",
    "mean = np.mean(arr)\n",
    "mean"
   ]
  },
  {
   "cell_type": "code",
   "execution_count": 3,
   "id": "83b98fef",
   "metadata": {},
   "outputs": [
    {
     "data": {
      "text/plain": [
       "115.8"
      ]
     },
     "execution_count": 3,
     "metadata": {},
     "output_type": "execute_result"
    }
   ],
   "source": [
    "median = np.median(arr)\n",
    "median"
   ]
  },
  {
   "cell_type": "code",
   "execution_count": 4,
   "id": "d633fd67",
   "metadata": {},
   "outputs": [
    {
     "data": {
      "text/plain": [
       "115.3"
      ]
     },
     "execution_count": 4,
     "metadata": {},
     "output_type": "execute_result"
    }
   ],
   "source": [
    "import statistics as stats\n",
    "stats.mode(arr)"
   ]
  },
  {
   "cell_type": "code",
   "execution_count": 5,
   "id": "16c0c5ce",
   "metadata": {},
   "outputs": [
    {
     "data": {
      "text/plain": [
       "701.7724"
      ]
     },
     "execution_count": 5,
     "metadata": {},
     "output_type": "execute_result"
    }
   ],
   "source": [
    "np.var(arr)"
   ]
  },
  {
   "cell_type": "code",
   "execution_count": 6,
   "id": "e32fde6d",
   "metadata": {},
   "outputs": [
    {
     "data": {
      "text/plain": [
       "26.490987146574962"
      ]
     },
     "execution_count": 6,
     "metadata": {},
     "output_type": "execute_result"
    }
   ],
   "source": [
    "std = np.std(arr)\n",
    "std"
   ]
  },
  {
   "cell_type": "code",
   "execution_count": 7,
   "id": "ce972bdc",
   "metadata": {},
   "outputs": [
    {
     "name": "stdout",
     "output_type": "stream",
     "text": [
      "normalised min max of the array \n"
     ]
    },
    {
     "data": {
      "text/plain": [
       "array([0.23691722, 1.        , 0.28639391, 0.18839201, 0.        ,\n",
       "       0.14462417, 0.19505233, 0.24643197, 0.30352046, 0.33301618])"
      ]
     },
     "execution_count": 7,
     "metadata": {},
     "output_type": "execute_result"
    }
   ],
   "source": [
    "print(\"normalised min max of the array \")\n",
    "max=np.max(arr)\n",
    "min=np.min(arr)\n",
    "normalised = np.array([(x-min)/(max - min) for x in arr])\n",
    "normalised"
   ]
  },
  {
   "cell_type": "code",
   "execution_count": 8,
   "id": "db1498b8",
   "metadata": {},
   "outputs": [
    {
     "name": "stdout",
     "output_type": "stream",
     "text": [
      "standadisation of the array\n"
     ]
    },
    {
     "data": {
      "text/plain": [
       "array([-0.2242272 ,  2.80321755, -0.02793403, -0.41674551, -1.16416953,\n",
       "       -0.59038948, -0.39032143, -0.18647852,  0.04001361,  0.15703454])"
      ]
     },
     "execution_count": 8,
     "metadata": {},
     "output_type": "execute_result"
    }
   ],
   "source": [
    "print(\"standadisation of the array\")\n",
    "standadisation=np.array([(x-mean)/std for x in arr])\n",
    "standadisation"
   ]
  },
  {
   "cell_type": "code",
   "execution_count": null,
   "id": "3bd2eb78",
   "metadata": {},
   "outputs": [],
   "source": []
  }
 ],
 "metadata": {
  "kernelspec": {
   "display_name": "Python 3 (ipykernel)",
   "language": "python",
   "name": "python3"
  },
  "language_info": {
   "codemirror_mode": {
    "name": "ipython",
    "version": 3
   },
   "file_extension": ".py",
   "mimetype": "text/x-python",
   "name": "python",
   "nbconvert_exporter": "python",
   "pygments_lexer": "ipython3",
   "version": "3.9.13"
  }
 },
 "nbformat": 4,
 "nbformat_minor": 5
}
